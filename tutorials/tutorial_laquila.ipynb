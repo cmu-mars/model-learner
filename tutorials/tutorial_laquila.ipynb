{
 "cells": [
  {
   "cell_type": "markdown",
   "metadata": {},
   "source": [
    "# 1.1 Installations\n",
    "\n",
    "First, you need to install `python3`:\n",
    "* MacOS: http://docs.python-guide.org/en/latest/starting/install3/osx/\n",
    "* Linux: http://docs.python-guide.org/en/latest/starting/install3/linux/\n",
    "* Windows: https://www.python.org/downloads/windows/\n",
    "\n",
    "Then, you need to make sure you installed `pip`:\n",
    "```bash\n",
    "python3 -m pip install pip\n",
    "```\n",
    "Assuming you installed `git`, you then do:\n",
    "```bash\n",
    "git clone https://github.com/cmu-mars/model-learner.git\n",
    "cd model-learner\n",
    "git checkout tutorial\n",
    "python3 -m pip install --upgrade .\n",
    "```\n",
    "Now, you are ready to start!"
   ]
  },
  {
   "cell_type": "markdown",
   "metadata": {},
   "source": [
    "# 1.2 Import libraries"
   ]
  },
  {
   "cell_type": "code",
   "execution_count": 3,
   "metadata": {},
   "outputs": [],
   "source": [
    "# import the libraries, classes, methods we need for this tutorial\n",
    "from learner.mlearner import MLearner\n",
    "from learner.model import genModelTermsfromString, Model, genModelfromCoeff\n",
    "import numpy as np"
   ]
  },
  {
   "cell_type": "markdown",
   "metadata": {},
   "source": [
    "# 1.3 Define model"
   ]
  },
  {
   "cell_type": "code",
   "execution_count": 4,
   "metadata": {},
   "outputs": [],
   "source": [
    "# Let's define a model, in this case a polynomial model\n",
    "# Polynomial models are a great tool for determining which input factors drive responses and in what direction.\n",
    "# Here we define a model with 20 dimensions, each variable represents a dimension and influence of each variable\n",
    "# is different, e.g., o0 has the coefficient of 1, while o1 has the coefficient of 2 so its effect is twice comparing\n",
    "# with o0. Also, we have two terms that represents the interactions of variables, e.g., 3 * o3 * o6.\n",
    "\n",
    "ndim = 20 # defines the dimension of the model, i.e., the number of variables in the model\n",
    "true_model = \"\"\"10 + 1.00 * o0 + 2.00 * o1 + 3.00 * o2 +\n",
    "4.00 * o3 + 5.00 * o4 + 6.00 * o5 + 7.00 * o6 + 8.00 * o7 + \n",
    "1.00 * o8 + 2.00 * o9 + 3.00 * o10 + 4.00 * o11 + 5.00 * o12 + \n",
    "6.00 * o13 + 7.00 * o14 + 8.00 * o15 + 1.00 * o16 + 2.00 * o17 + \n",
    "3.00 * o18 + 4.00 * o19 + 1 * o0 * o1 + 3 * o3 * o6\"\"\""
   ]
  },
  {
   "cell_type": "code",
   "execution_count": 5,
   "metadata": {},
   "outputs": [
    {
     "name": "stdout",
     "output_type": "stream",
     "text": [
      "1.00 * o0 + 2.00 * o1 + 3.00 * o2 + 4.00 * o3 + 5.00 * o4 + 6.00 * o5 + 7.00 * o6 + 8.00 * o7 + 1.00 * o8 + 2.00 * o9 + 3.00 * o10 + 4.00 * o11 + 5.00 * o12 + 6.00 * o13 + 7.00 * o14 + 8.00 * o15 + 1.00 * o16 + 2.00 * o17 + 3.00 * o18 + 4.00 * o19 + 1.00 * o0 * o1 + 3.00 * o3 * o6 + 10.0\n"
     ]
    }
   ],
   "source": [
    "# The model above is just a representation in string, so we need to build a model that we can evaluate given an input\n",
    "power_model_terms = genModelTermsfromString(true_model)\n",
    "true_power_model = Model(power_model_terms, ndim)\n",
    "print(true_power_model)"
   ]
  },
  {
   "cell_type": "code",
   "execution_count": 6,
   "metadata": {},
   "outputs": [
    {
     "data": {
      "text/plain": [
       "(array([[ 1.,  1.,  1.,  1.,  1.,  1.,  1.,  1.,  1.,  1.,  1.,  1.,  1.,\n",
       "          1.,  1.,  1.,  1.,  1.,  1.,  1.]]), 96.0)"
      ]
     },
     "execution_count": 6,
     "metadata": {},
     "output_type": "execute_result"
    }
   ],
   "source": [
    "# lets see how we evaluate the model with specific input\n",
    "xTest = np.ones((1, 20))\n",
    "yTest = true_power_model.evaluateModelFast(xTest)\n",
    "xTest, yTest[0]"
   ]
  },
  {
   "cell_type": "code",
   "execution_count": 7,
   "metadata": {},
   "outputs": [
    {
     "data": {
      "text/plain": [
       "(array([[ 0.,  0.,  0.,  0.,  0.,  0.,  0.,  0.,  0.,  0.,  0.,  0.,  0.,\n",
       "          0.,  0.,  0.,  0.,  0.,  0.,  0.]]), 10.0)"
      ]
     },
     "execution_count": 7,
     "metadata": {},
     "output_type": "execute_result"
    }
   ],
   "source": [
    "# let's try with array of zeros, what you expect to get as a result of evaluation? 10?\n",
    "xTest = np.zeros((1, 20))\n",
    "yTest = true_power_model.evaluateModelFast(xTest)\n",
    "xTest, yTest[0]"
   ]
  },
  {
   "cell_type": "markdown",
   "metadata": {},
   "source": [
    "# 1.3 Sample data"
   ]
  },
  {
   "cell_type": "code",
   "execution_count": 26,
   "metadata": {},
   "outputs": [
    {
     "data": {
      "text/plain": [
       "(array([[0, 1, 0, ..., 0, 1, 0],\n",
       "        [1, 0, 0, ..., 0, 1, 0],\n",
       "        [1, 1, 1, ..., 0, 0, 0],\n",
       "        ..., \n",
       "        [0, 1, 0, ..., 1, 0, 1],\n",
       "        [1, 0, 1, ..., 0, 0, 0],\n",
       "        [1, 0, 1, ..., 0, 0, 1]]),\n",
       " array([ 56.,  44.,  58., ...,  53.,  54.,  41.]))"
      ]
     },
     "execution_count": 26,
     "metadata": {},
     "output_type": "execute_result"
    }
   ],
   "source": [
    "# here we select how many sample data points we woould like to use for learning\n",
    "budget = 10000\n",
    "learner = MLearner(budget, ndim, true_power_model)\n",
    "learner.sample_random()\n",
    "learner.X, learner.y"
   ]
  },
  {
   "cell_type": "markdown",
   "metadata": {},
   "source": [
    "# 1.4 Learn the model"
   ]
  },
  {
   "cell_type": "code",
   "execution_count": 27,
   "metadata": {},
   "outputs": [],
   "source": [
    "# lets start learning\n",
    "learned_model = learner.discover()"
   ]
  },
  {
   "cell_type": "markdown",
   "metadata": {},
   "source": [
    "# 1.5 Generate output model representation"
   ]
  },
  {
   "cell_type": "code",
   "execution_count": 28,
   "metadata": {},
   "outputs": [
    {
     "name": "stdout",
     "output_type": "stream",
     "text": [
      "1.00 * o0 + 2.00 * o1 + 3.00 * o2 + 4.00 * o3 + 5.00 * o4 + 6.00 * o5 + 7.00 * o6 + 8.00 * o7 + 1.00 * o8 + 2.00 * o9 + 3.00 * o10 + 4.00 * o11 + 5.00 * o12 + 6.00 * o13 + 7.00 * o14 + 8.00 * o15 + 1.00 * o16 + 2.00 * o17 + 3.00 * o18 + 4.00 * o19 + 0.00 * o0 * o1 + 0.00 * o0 * o2 + -0.00 * o0 * o3 + 0.00 * o0 * o4 + -0.00 * o0 * o5 + -0.00 * o0 * o6 + 0.00 * o0 * o7 + 0.00 * o0 * o8 + 0.00 * o0 * o9 + -0.00 * o0 * o10 + 0.00 * o0 * o11 + 0.00 * o0 * o12 + -0.00 * o0 * o13 + 0.00 * o0 * o14 + 0.00 * o0 * o15 + 0.00 * o0 * o16 + 0.00 * o0 * o17 + 0.00 * o0 * o18 + -0.00 * o0 * o19 + -0.00 * o1 * o2 + 0.00 * o1 * o3 + -0.00 * o1 * o4 + -0.00 * o1 * o5 + 0.00 * o1 * o6 + 0.00 * o1 * o7 + 0.00 * o1 * o8 + -0.00 * o1 * o9 + 0.00 * o1 * o10 + 0.00 * o1 * o11 + -0.00 * o1 * o12 + 0.00 * o1 * o13 + 0.00 * o1 * o14 + 0.00 * o1 * o15 + 0.00 * o1 * o16 + 0.00 * o1 * o17 + -0.00 * o1 * o18 + -0.00 * o1 * o19 + -0.00 * o2 * o3 + -0.00 * o2 * o4 + 0.00 * o2 * o5 + 0.00 * o2 * o6 + 0.00 * o2 * o7 + -0.00 * o2 * o8 + 0.00 * o2 * o9 + 0.00 * o2 * o10 + -0.00 * o2 * o11 + 0.00 * o2 * o12 + 0.00 * o2 * o13 + 0.00 * o2 * o14 + 0.00 * o2 * o15 + 0.00 * o2 * o16 + -0.00 * o2 * o17 + -0.00 * o2 * o18 + -0.00 * o2 * o19 + 0.00 * o3 * o4 + 0.00 * o3 * o5 + 0.00 * o3 * o6 + -0.00 * o3 * o7 + 0.00 * o3 * o8 + 0.00 * o3 * o9 + -0.00 * o3 * o10 + 0.00 * o3 * o11 + 0.00 * o3 * o12 + 0.00 * o3 * o13 + 0.00 * o3 * o14 + 0.00 * o3 * o15 + -0.00 * o3 * o16 + -0.00 * o3 * o17 + -0.00 * o3 * o18 + 0.00 * o3 * o19 + 0.00 * o4 * o5 + -0.00 * o4 * o6 + 0.00 * o4 * o7 + 0.00 * o4 * o8 + -0.00 * o4 * o9 + 0.00 * o4 * o10 + 0.00 * o4 * o11 + 0.00 * o4 * o12 + 0.00 * o4 * o13 + 0.00 * o4 * o14 + -0.00 * o4 * o15 + -0.00 * o4 * o16 + -0.00 * o4 * o17 + 0.00 * o4 * o18 + -0.00 * o4 * o19 + 0.00 * o5 * o6 + 0.00 * o5 * o7 + -0.00 * o5 * o8 + 0.00 * o5 * o9 + 0.00 * o5 * o10 + 0.00 * o5 * o11 + 0.00 * o5 * o12 + 0.00 * o5 * o13 + -0.00 * o5 * o14 + -0.00 * o5 * o15 + -0.00 * o5 * o16 + 0.00 * o5 * o17 + -0.00 * o5 * o18 + -0.00 * o5 * o19 + -0.00 * o6 * o7 + 0.00 * o6 * o8 + 0.00 * o6 * o9 + 0.00 * o6 * o10 + 0.00 * o6 * o11 + 0.00 * o6 * o12 + -0.00 * o6 * o13 + -0.00 * o6 * o14 + -0.00 * o6 * o15 + 0.00 * o6 * o16 + -0.00 * o6 * o17 + -0.00 * o6 * o18 + 0.00 * o6 * o19 + 0.00 * o7 * o8 + 0.00 * o7 * o9 + 0.00 * o7 * o10 + 0.00 * o7 * o11 + -0.00 * o7 * o12 + -0.00 * o7 * o13 + -0.00 * o7 * o14 + 0.00 * o7 * o15 + -0.00 * o7 * o16 + -0.00 * o7 * o17 + 0.00 * o7 * o18 + 0.00 * o7 * o19 + 0.00 * o8 * o9 + 0.00 * o8 * o10 + -0.00 * o8 * o11 + -0.00 * o8 * o12 + -0.00 * o8 * o13 + 0.00 * o8 * o14 + -0.00 * o8 * o15 + -0.00 * o8 * o16 + 0.00 * o8 * o17 + 0.00 * o8 * o18 + -0.00 * o8 * o19 + -0.00 * o9 * o10 + -0.00 * o9 * o11 + -0.00 * o9 * o12 + 0.00 * o9 * o13 + -0.00 * o9 * o14 + -0.00 * o9 * o15 + 0.00 * o9 * o16 + 0.00 * o9 * o17 + -0.00 * o9 * o18 + -0.00 * o9 * o19 + -0.00 * o10 * o11 + 0.00 * o10 * o12 + -0.00 * o10 * o13 + -0.00 * o10 * o14 + 0.00 * o10 * o15 + 0.00 * o10 * o16 + -0.00 * o10 * o17 + -0.00 * o10 * o18 + -0.00 * o10 * o19 + -0.00 * o11 * o12 + -0.00 * o11 * o13 + 0.00 * o11 * o14 + 0.00 * o11 * o15 + -0.00 * o11 * o16 + -0.00 * o11 * o17 + -0.00 * o11 * o18 + 0.00 * o11 * o19 + 0.00 * o12 * o13 + 0.00 * o12 * o14 + -0.00 * o12 * o15 + -0.00 * o12 * o16 + -0.00 * o12 * o17 + 0.00 * o12 * o18 + 0.00 * o12 * o19 + -0.00 * o13 * o14 + -0.00 * o13 * o15 + -0.00 * o13 * o16 + 0.00 * o13 * o17 + 0.00 * o13 * o18 + 0.00 * o13 * o19 + -0.00 * o14 * o15 + 0.00 * o14 * o16 + 0.00 * o14 * o17 + 0.00 * o14 * o18 + -0.00 * o14 * o19 + 0.00 * o15 * o16 + 0.00 * o15 * o17 + -0.00 * o15 * o18 + -0.00 * o15 * o19 + -0.00 * o16 * o17 + -0.00 * o16 * o18 + 0.00 * o16 * o19 + 0.00 * o17 * o18 + 0.00 * o17 * o19 + -0.00 * o18 * o19\n"
     ]
    }
   ],
   "source": [
    "learned_power_model_terms = genModelfromCoeff(learned_model.named_steps['linear'].coef_, ndim)\n",
    "learned_power_model = Model(learned_power_model_terms, ndim)\n",
    "print(learned_power_model)"
   ]
  }
 ],
 "metadata": {
  "kernelspec": {
   "display_name": "Python 3",
   "language": "python",
   "name": "python3"
  },
  "language_info": {
   "codemirror_mode": {
    "name": "ipython",
    "version": 3
   },
   "file_extension": ".py",
   "mimetype": "text/x-python",
   "name": "python",
   "nbconvert_exporter": "python",
   "pygments_lexer": "ipython3",
   "version": "3.6.3"
  }
 },
 "nbformat": 4,
 "nbformat_minor": 2
}
